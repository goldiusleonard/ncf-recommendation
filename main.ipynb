{
 "cells": [
  {
   "cell_type": "markdown",
   "metadata": {},
   "source": [
    "# 1. Setup and Environment"
   ]
  },
  {
   "cell_type": "markdown",
   "metadata": {},
   "source": [
    "Install PyTorch GPU"
   ]
  },
  {
   "cell_type": "code",
   "execution_count": 1,
   "metadata": {},
   "outputs": [
    {
     "name": "stdout",
     "output_type": "stream",
     "text": [
      "Looking in indexes: https://download.pytorch.org/whl/cu124\n",
      "Requirement already satisfied: torch==2.5.1 in c:\\users\\goldi\\.conda\\envs\\ncf\\lib\\site-packages (2.5.1+cu124)\n",
      "Requirement already satisfied: torchvision==0.20.1 in c:\\users\\goldi\\.conda\\envs\\ncf\\lib\\site-packages (0.20.1+cu124)\n",
      "Requirement already satisfied: torchaudio==2.5.1 in c:\\users\\goldi\\.conda\\envs\\ncf\\lib\\site-packages (2.5.1+cu124)\n",
      "Requirement already satisfied: filelock in c:\\users\\goldi\\appdata\\roaming\\python\\python310\\site-packages (from torch==2.5.1) (3.12.4)\n",
      "Requirement already satisfied: typing-extensions>=4.8.0 in c:\\users\\goldi\\appdata\\roaming\\python\\python310\\site-packages (from torch==2.5.1) (4.8.0)\n",
      "Requirement already satisfied: networkx in c:\\users\\goldi\\appdata\\roaming\\python\\python310\\site-packages (from torch==2.5.1) (3.1)\n",
      "Requirement already satisfied: jinja2 in c:\\users\\goldi\\appdata\\roaming\\python\\python310\\site-packages (from torch==2.5.1) (3.1.2)\n",
      "Requirement already satisfied: fsspec in c:\\users\\goldi\\appdata\\roaming\\python\\python310\\site-packages (from torch==2.5.1) (2023.9.1)\n",
      "Requirement already satisfied: sympy==1.13.1 in c:\\users\\goldi\\.conda\\envs\\ncf\\lib\\site-packages (from torch==2.5.1) (1.13.1)\n",
      "Requirement already satisfied: numpy in c:\\users\\goldi\\appdata\\roaming\\python\\python310\\site-packages (from torchvision==0.20.1) (1.26.0)\n",
      "Requirement already satisfied: pillow!=8.3.*,>=5.3.0 in c:\\users\\goldi\\appdata\\roaming\\python\\python310\\site-packages (from torchvision==0.20.1) (9.5.0)\n",
      "Requirement already satisfied: mpmath<1.4,>=1.1.0 in c:\\users\\goldi\\appdata\\roaming\\python\\python310\\site-packages (from sympy==1.13.1->torch==2.5.1) (1.3.0)\n",
      "Requirement already satisfied: MarkupSafe>=2.0 in c:\\users\\goldi\\appdata\\roaming\\python\\python310\\site-packages (from jinja2->torch==2.5.1) (2.1.3)\n"
     ]
    },
    {
     "name": "stderr",
     "output_type": "stream",
     "text": [
      "WARNING: Ignoring invalid distribution -orch (c:\\users\\goldi\\appdata\\roaming\\python\\python310\\site-packages)\n",
      "WARNING: Ignoring invalid distribution -orch (c:\\users\\goldi\\appdata\\roaming\\python\\python310\\site-packages)\n",
      "WARNING: Ignoring invalid distribution -orch (c:\\users\\goldi\\appdata\\roaming\\python\\python310\\site-packages)\n",
      "WARNING: Ignoring invalid distribution -orch (c:\\users\\goldi\\appdata\\roaming\\python\\python310\\site-packages)\n",
      "WARNING: Ignoring invalid distribution -orch (c:\\users\\goldi\\appdata\\roaming\\python\\python310\\site-packages)\n"
     ]
    }
   ],
   "source": [
    "!pip install torch==2.5.1 torchvision==0.20.1 torchaudio==2.5.1 --index-url https://download.pytorch.org/whl/cu124"
   ]
  },
  {
   "cell_type": "code",
   "execution_count": 2,
   "metadata": {},
   "outputs": [
    {
     "name": "stdout",
     "output_type": "stream",
     "text": [
      "Using device: cuda\n"
     ]
    }
   ],
   "source": [
    "import os\n",
    "import numpy as np\n",
    "import pandas as pd\n",
    "import torch\n",
    "import torch.nn as nn\n",
    "import torch.optim as optim\n",
    "from torch.utils.data import Dataset, DataLoader\n",
    "import matplotlib.pyplot as plt\n",
    "import seaborn as sns\n",
    "from sklearn.model_selection import train_test_split\n",
    "from sklearn.preprocessing import LabelEncoder\n",
    "from tqdm import tqdm\n",
    "import random\n",
    "\n",
    "os.environ['CUDA_LAUNCH_BLOCKING'] = '1'  # Set CUDA_LAUNCH_BLOCKING=1\n",
    "\n",
    "torch.manual_seed(42)\n",
    "np.random.seed(42)\n",
    "random.seed(42)\n",
    "\n",
    "device = torch.device(\"cuda\" if torch.cuda.is_available() else \"cpu\")\n",
    "print(f\"Using device: {device}\")"
   ]
  },
  {
   "cell_type": "markdown",
   "metadata": {},
   "source": [
    "# 2. Data Loading and Preparation"
   ]
  },
  {
   "cell_type": "markdown",
   "metadata": {},
   "source": [
    "We’ll use the MovieLens 100K dataset, which contains 100,000 movie ratings from users"
   ]
  },
  {
   "cell_type": "code",
   "execution_count": 3,
   "metadata": {},
   "outputs": [
    {
     "name": "stderr",
     "output_type": "stream",
     "text": [
      "  % Total    % Received % Xferd  Average Speed   Time    Time     Time  Current\n",
      "                                 Dload  Upload   Total   Spent    Left  Speed\n",
      "\n",
      "  0     0    0     0    0     0      0      0 --:--:-- --:--:-- --:--:--     0\n",
      "  0 4808k    0     0    0     0      0      0 --:--:-- --:--:-- --:--:--     0\n",
      "  9 4808k    9  464k    0     0   246k      0  0:00:19  0:00:01  0:00:18  246k\n",
      "100 4808k  100 4808k    0     0  1911k      0  0:00:02  0:00:02 --:--:-- 1914k\n",
      ". : File C:\\Users\\goldi\\Documents\\WindowsPowerShell\\profile.ps1 cannot be loaded because running scripts is disabled \n",
      "on this system. For more information, see about_Execution_Policies at https:/go.microsoft.com/fwlink/?LinkID=135170.\n",
      "At line:1 char:3\n",
      "+ . 'C:\\Users\\goldi\\Documents\\WindowsPowerShell\\profile.ps1'\n",
      "+   ~~~~~~~~~~~~~~~~~~~~~~~~~~~~~~~~~~~~~~~~~~~~~~~~~~~~~~~~\n",
      "    + CategoryInfo          : SecurityError: (:) [], PSSecurityException\n",
      "    + FullyQualifiedErrorId : UnauthorizedAccess\n"
     ]
    }
   ],
   "source": [
    "!curl -O -L https://files.grouplens.org/datasets/movielens/ml-100k.zip\n",
    "!powershell -Command \"Expand-Archive -Path 'ml-100k.zip' -DestinationPath '.' -Force\""
   ]
  },
  {
   "cell_type": "markdown",
   "metadata": {},
   "source": [
    "Load user's rating data"
   ]
  },
  {
   "cell_type": "code",
   "execution_count": 4,
   "metadata": {},
   "outputs": [],
   "source": [
    "ratings_df = pd.read_csv('ml-100k/u.data', sep='\\t', names=['user_id', 'item_id', 'rating', 'timestamp'])"
   ]
  },
  {
   "cell_type": "code",
   "execution_count": 5,
   "metadata": {},
   "outputs": [
    {
     "name": "stdout",
     "output_type": "stream",
     "text": [
      "Ratings data:\n",
      "   user_id  item_id  rating  timestamp\n",
      "0      196      242       3  881250949\n",
      "1      186      302       3  891717742\n",
      "2       22      377       1  878887116\n",
      "3      244       51       2  880606923\n",
      "4      166      346       1  886397596\n"
     ]
    }
   ],
   "source": [
    "print(\"Ratings data:\")\n",
    "print(ratings_df.head())"
   ]
  },
  {
   "cell_type": "markdown",
   "metadata": {},
   "source": [
    "Load movie data"
   ]
  },
  {
   "cell_type": "code",
   "execution_count": 6,
   "metadata": {},
   "outputs": [],
   "source": [
    "movies_df = pd.read_csv('ml-100k/u.item', sep='|', encoding='latin-1',\n",
    "                       names=['item_id', 'title', 'release_date', 'video_release_date',\n",
    "                              'IMDb_URL', 'unknown', 'Action', 'Adventure', 'Animation',\n",
    "                              'Children', 'Comedy', 'Crime', 'Documentary', 'Drama', 'Fantasy',\n",
    "                              'Film-Noir', 'Horror', 'Musical', 'Mystery', 'Romance', 'Sci-Fi',\n",
    "                              'Thriller', 'War', 'Western'])"
   ]
  },
  {
   "cell_type": "code",
   "execution_count": 7,
   "metadata": {},
   "outputs": [
    {
     "name": "stdout",
     "output_type": "stream",
     "text": [
      "nMovies data:\n",
      "   item_id              title\n",
      "0        1   Toy Story (1995)\n",
      "1        2   GoldenEye (1995)\n",
      "2        3  Four Rooms (1995)\n",
      "3        4  Get Shorty (1995)\n",
      "4        5     Copycat (1995)\n"
     ]
    }
   ],
   "source": [
    "print(\"nMovies data:\")\n",
    "print(movies_df[['item_id', 'title']].head())"
   ]
  },
  {
   "cell_type": "markdown",
   "metadata": {},
   "source": [
    "Check number of data"
   ]
  },
  {
   "cell_type": "code",
   "execution_count": 8,
   "metadata": {},
   "outputs": [
    {
     "name": "stdout",
     "output_type": "stream",
     "text": [
      "nTotal number of ratings: 100000\n",
      "Number of unique users: 943\n",
      "Number of unique movies: 1682\n",
      "Rating range: 1 to 5\n",
      "Average rating: 3.53\n"
     ]
    }
   ],
   "source": [
    "print(f\"nTotal number of ratings: {len(ratings_df)}\")\n",
    "print(f\"Number of unique users: {ratings_df['user_id'].nunique()}\")\n",
    "print(f\"Number of unique movies: {ratings_df['item_id'].nunique()}\")\n",
    "print(f\"Rating range: {ratings_df['rating'].min()} to {ratings_df['rating'].max()}\")\n",
    "print(f\"Average rating: {ratings_df['rating'].mean():.2f}\")"
   ]
  },
  {
   "cell_type": "markdown",
   "metadata": {},
   "source": [
    "Check distribution of ratings"
   ]
  },
  {
   "cell_type": "code",
   "execution_count": 9,
   "metadata": {},
   "outputs": [
    {
     "data": {
      "image/png": "[encoded data removed]",
      "text/plain": [
       "<Figure size 1000x600 with 1 Axes>"
      ]
     },
     "metadata": {},
     "output_type": "display_data"
    }
   ],
   "source": [
    "plt.figure(figsize=(10, 6))\n",
    "sns.countplot(x='rating', data=ratings_df)\n",
    "plt.title('Distribution of Ratings')\n",
    "plt.xlabel('Rating')\n",
    "plt.ylabel('Count')\n",
    "plt.show()"
   ]
  },
  {
   "cell_type": "markdown",
   "metadata": {},
   "source": [
    "# 3. Data Preparation for NCF"
   ]
  },
  {
   "cell_type": "code",
   "execution_count": 10,
   "metadata": {},
   "outputs": [
    {
     "name": "stdout",
     "output_type": "stream",
     "text": [
      "Training set size: 80000\n",
      "Test set size: 20000\n"
     ]
    }
   ],
   "source": [
    "train_df, test_df = train_test_split(ratings_df, test_size=0.2, random_state=42)\n",
    "\n",
    "\n",
    "print(f\"Training set size: {len(train_df)}\")\n",
    "print(f\"Test set size: {len(test_df)}\")"
   ]
  },
  {
   "cell_type": "code",
   "execution_count": 11,
   "metadata": {},
   "outputs": [
    {
     "name": "stdout",
     "output_type": "stream",
     "text": [
      "Number of users: 943\n",
      "Number of items: 1682\n"
     ]
    }
   ],
   "source": [
    "num_users = ratings_df['user_id'].max()\n",
    "num_items = ratings_df['item_id'].max()\n",
    "\n",
    "\n",
    "print(f\"Number of users: {num_users}\")\n",
    "print(f\"Number of items: {num_items}\")"
   ]
  },
  {
   "cell_type": "code",
   "execution_count": 12,
   "metadata": {},
   "outputs": [],
   "source": [
    "class NCFDataset(Dataset):\n",
    "   def __init__(self, df):\n",
    "       self.user_ids = torch.tensor(df['user_id'].values, dtype=torch.long)\n",
    "       self.item_ids = torch.tensor(df['item_id'].values, dtype=torch.long)\n",
    "       self.labels = torch.tensor(df['rating'].values, dtype=torch.float)\n",
    "      \n",
    "   def __len__(self):\n",
    "       return len(self.user_ids)\n",
    "  \n",
    "   def __getitem__(self, idx):\n",
    "       return {\n",
    "           'user_id': self.user_ids[idx],\n",
    "           'item_id': self.item_ids[idx],\n",
    "           'label': self.labels[idx]\n",
    "       }\n",
    "\n",
    "\n",
    "train_dataset = NCFDataset(train_df)\n",
    "test_dataset = NCFDataset(test_df)\n",
    "\n",
    "\n",
    "batch_size = 256\n",
    "train_loader = DataLoader(train_dataset, batch_size=batch_size, shuffle=True)\n",
    "test_loader = DataLoader(test_dataset, batch_size=batch_size, shuffle=False)"
   ]
  },
  {
   "cell_type": "markdown",
   "metadata": {},
   "source": [
    "# 4. Model Architecture"
   ]
  },
  {
   "cell_type": "code",
   "execution_count": 13,
   "metadata": {},
   "outputs": [
    {
     "name": "stdout",
     "output_type": "stream",
     "text": [
      "NCF(\n",
      "  (user_embedding_gmf): Embedding(944, 32)\n",
      "  (item_embedding_gmf): Embedding(1683, 32)\n",
      "  (user_embedding_mlp): Embedding(944, 32)\n",
      "  (item_embedding_mlp): Embedding(1683, 32)\n",
      "  (mlp_layers): ModuleList(\n",
      "    (0): Linear(in_features=64, out_features=64, bias=True)\n",
      "    (1): ReLU()\n",
      "    (2): Linear(in_features=64, out_features=32, bias=True)\n",
      "    (3): ReLU()\n",
      "    (4): Linear(in_features=32, out_features=16, bias=True)\n",
      "    (5): ReLU()\n",
      "  )\n",
      "  (output_layer): Linear(in_features=48, out_features=1, bias=True)\n",
      "  (sigmoid): Sigmoid()\n",
      ")\n"
     ]
    }
   ],
   "source": [
    "class NCF(nn.Module):\n",
    "   def __init__(self, num_users, num_items, embedding_dim=32, mlp_layers=[64, 32, 16]):\n",
    "       super(NCF, self).__init__() \n",
    "\n",
    "       self.user_embedding_gmf = nn.Embedding(num_users + 1, embedding_dim)\n",
    "       self.item_embedding_gmf = nn.Embedding(num_items + 1, embedding_dim)\n",
    "\n",
    "       self.user_embedding_mlp = nn.Embedding(num_users + 1, embedding_dim)\n",
    "       self.item_embedding_mlp = nn.Embedding(num_items + 1, embedding_dim)\n",
    "      \n",
    "       mlp_input_dim = 2 * embedding_dim\n",
    "       self.mlp_layers = nn.ModuleList()\n",
    "       for idx, layer_size in enumerate(mlp_layers):\n",
    "           if idx == 0:\n",
    "               self.mlp_layers.append(nn.Linear(mlp_input_dim, layer_size))\n",
    "           else:\n",
    "               self.mlp_layers.append(nn.Linear(mlp_layers[idx-1], layer_size))\n",
    "           self.mlp_layers.append(nn.ReLU())\n",
    "\n",
    "       self.output_layer = nn.Linear(embedding_dim + mlp_layers[-1], 1)\n",
    "       self.sigmoid = nn.Sigmoid()\n",
    "\n",
    "       self._init_weights()\n",
    "  \n",
    "   def _init_weights(self):\n",
    "       for m in self.modules():\n",
    "           if isinstance(m, nn.Embedding):\n",
    "               nn.init.normal_(m.weight, mean=0.0, std=0.01)\n",
    "           elif isinstance(m, nn.Linear):\n",
    "               nn.init.kaiming_uniform_(m.weight)\n",
    "               if m.bias is not None:\n",
    "                   nn.init.zeros_(m.bias)\n",
    "  \n",
    "   def forward(self, user_ids, item_ids):\n",
    "       user_embedding_gmf = self.user_embedding_gmf(user_ids)\n",
    "       item_embedding_gmf = self.item_embedding_gmf(item_ids)\n",
    "       gmf_vector = user_embedding_gmf * item_embedding_gmf\n",
    "      \n",
    "       user_embedding_mlp = self.user_embedding_mlp(user_ids)\n",
    "       item_embedding_mlp = self.item_embedding_mlp(item_ids)\n",
    "       mlp_vector = torch.cat([user_embedding_mlp, item_embedding_mlp], dim=-1)\n",
    "\n",
    "       for layer in self.mlp_layers:\n",
    "           mlp_vector = layer(mlp_vector)\n",
    "\n",
    "       concat_vector = torch.cat([gmf_vector, mlp_vector], dim=-1)\n",
    "\n",
    "       prediction = self.sigmoid(self.output_layer(concat_vector)).squeeze()\n",
    "\n",
    "       return prediction\n",
    "\n",
    "\n",
    "embedding_dim = 32\n",
    "mlp_layers = [64, 32, 16]\n",
    "model = NCF(num_users, num_items, embedding_dim, mlp_layers).to(device)\n",
    "\n",
    "print(model)"
   ]
  },
  {
   "cell_type": "markdown",
   "metadata": {},
   "source": [
    "# 5.Training the Model"
   ]
  },
  {
   "cell_type": "code",
   "execution_count": 14,
   "metadata": {},
   "outputs": [
    {
     "name": "stderr",
     "output_type": "stream",
     "text": [
      "Training:   0%|          | 0/313 [00:01<?, ?it/s]\n"
     ]
    },
    {
     "ename": "RuntimeError",
     "evalue": "CUDA error: device-side assert triggered\nCompile with `TORCH_USE_CUDA_DSA` to enable device-side assertions.\n",
     "output_type": "error",
     "traceback": [
      "\u001b[1;31m---------------------------------------------------------------------------\u001b[0m",
      "\u001b[1;31mRuntimeError\u001b[0m                              Traceback (most recent call last)",
      "Cell \u001b[1;32mIn[14], line 60\u001b[0m\n\u001b[0;32m     56\u001b[0m history \u001b[38;5;241m=\u001b[39m {\u001b[38;5;124m'\u001b[39m\u001b[38;5;124mtrain_loss\u001b[39m\u001b[38;5;124m'\u001b[39m: [], \u001b[38;5;124m'\u001b[39m\u001b[38;5;124mval_loss\u001b[39m\u001b[38;5;124m'\u001b[39m: [], \u001b[38;5;124m'\u001b[39m\u001b[38;5;124mval_auc\u001b[39m\u001b[38;5;124m'\u001b[39m: [], \u001b[38;5;124m'\u001b[39m\u001b[38;5;124mval_ap\u001b[39m\u001b[38;5;124m'\u001b[39m: []}\n\u001b[0;32m     59\u001b[0m \u001b[38;5;28;01mfor\u001b[39;00m epoch \u001b[38;5;129;01min\u001b[39;00m \u001b[38;5;28mrange\u001b[39m(num_epochs):\n\u001b[1;32m---> 60\u001b[0m    train_loss \u001b[38;5;241m=\u001b[39m \u001b[43mtrain_epoch\u001b[49m\u001b[43m(\u001b[49m\u001b[43mmodel\u001b[49m\u001b[43m,\u001b[49m\u001b[43m \u001b[49m\u001b[43mtrain_loader\u001b[49m\u001b[43m,\u001b[49m\u001b[43m \u001b[49m\u001b[43mcriterion\u001b[49m\u001b[43m,\u001b[49m\u001b[43m \u001b[49m\u001b[43moptimizer\u001b[49m\u001b[43m,\u001b[49m\u001b[43m \u001b[49m\u001b[43mdevice\u001b[49m\u001b[43m)\u001b[49m\n\u001b[0;32m     62\u001b[0m    eval_metrics \u001b[38;5;241m=\u001b[39m evaluate(model, test_loader, criterion, device)\n\u001b[0;32m     64\u001b[0m    history[\u001b[38;5;124m'\u001b[39m\u001b[38;5;124mtrain_loss\u001b[39m\u001b[38;5;124m'\u001b[39m]\u001b[38;5;241m.\u001b[39mappend(train_loss)\n",
      "Cell \u001b[1;32mIn[14], line 15\u001b[0m, in \u001b[0;36mtrain_epoch\u001b[1;34m(model, data_loader, criterion, optimizer, device)\u001b[0m\n\u001b[0;32m     13\u001b[0m optimizer\u001b[38;5;241m.\u001b[39mzero_grad()\n\u001b[0;32m     14\u001b[0m outputs \u001b[38;5;241m=\u001b[39m model(user_ids, item_ids)\n\u001b[1;32m---> 15\u001b[0m loss \u001b[38;5;241m=\u001b[39m \u001b[43mcriterion\u001b[49m\u001b[43m(\u001b[49m\u001b[43moutputs\u001b[49m\u001b[43m,\u001b[49m\u001b[43m \u001b[49m\u001b[43mlabels\u001b[49m\u001b[43m)\u001b[49m\n\u001b[0;32m     17\u001b[0m loss\u001b[38;5;241m.\u001b[39mbackward()\n\u001b[0;32m     18\u001b[0m optimizer\u001b[38;5;241m.\u001b[39mstep()\n",
      "File \u001b[1;32mc:\\Users\\goldi\\.conda\\envs\\ncf\\lib\\site-packages\\torch\\nn\\modules\\module.py:1736\u001b[0m, in \u001b[0;36mModule._wrapped_call_impl\u001b[1;34m(self, *args, **kwargs)\u001b[0m\n\u001b[0;32m   1734\u001b[0m     \u001b[38;5;28;01mreturn\u001b[39;00m \u001b[38;5;28mself\u001b[39m\u001b[38;5;241m.\u001b[39m_compiled_call_impl(\u001b[38;5;241m*\u001b[39margs, \u001b[38;5;241m*\u001b[39m\u001b[38;5;241m*\u001b[39mkwargs)  \u001b[38;5;66;03m# type: ignore[misc]\u001b[39;00m\n\u001b[0;32m   1735\u001b[0m \u001b[38;5;28;01melse\u001b[39;00m:\n\u001b[1;32m-> 1736\u001b[0m     \u001b[38;5;28;01mreturn\u001b[39;00m \u001b[38;5;28mself\u001b[39m\u001b[38;5;241m.\u001b[39m_call_impl(\u001b[38;5;241m*\u001b[39margs, \u001b[38;5;241m*\u001b[39m\u001b[38;5;241m*\u001b[39mkwargs)\n",
      "File \u001b[1;32mc:\\Users\\goldi\\.conda\\envs\\ncf\\lib\\site-packages\\torch\\nn\\modules\\module.py:1747\u001b[0m, in \u001b[0;36mModule._call_impl\u001b[1;34m(self, *args, **kwargs)\u001b[0m\n\u001b[0;32m   1742\u001b[0m \u001b[38;5;66;03m# If we don't have any hooks, we want to skip the rest of the logic in\u001b[39;00m\n\u001b[0;32m   1743\u001b[0m \u001b[38;5;66;03m# this function, and just call forward.\u001b[39;00m\n\u001b[0;32m   1744\u001b[0m \u001b[38;5;28;01mif\u001b[39;00m \u001b[38;5;129;01mnot\u001b[39;00m (\u001b[38;5;28mself\u001b[39m\u001b[38;5;241m.\u001b[39m_backward_hooks \u001b[38;5;129;01mor\u001b[39;00m \u001b[38;5;28mself\u001b[39m\u001b[38;5;241m.\u001b[39m_backward_pre_hooks \u001b[38;5;129;01mor\u001b[39;00m \u001b[38;5;28mself\u001b[39m\u001b[38;5;241m.\u001b[39m_forward_hooks \u001b[38;5;129;01mor\u001b[39;00m \u001b[38;5;28mself\u001b[39m\u001b[38;5;241m.\u001b[39m_forward_pre_hooks\n\u001b[0;32m   1745\u001b[0m         \u001b[38;5;129;01mor\u001b[39;00m _global_backward_pre_hooks \u001b[38;5;129;01mor\u001b[39;00m _global_backward_hooks\n\u001b[0;32m   1746\u001b[0m         \u001b[38;5;129;01mor\u001b[39;00m _global_forward_hooks \u001b[38;5;129;01mor\u001b[39;00m _global_forward_pre_hooks):\n\u001b[1;32m-> 1747\u001b[0m     \u001b[38;5;28;01mreturn\u001b[39;00m forward_call(\u001b[38;5;241m*\u001b[39margs, \u001b[38;5;241m*\u001b[39m\u001b[38;5;241m*\u001b[39mkwargs)\n\u001b[0;32m   1749\u001b[0m result \u001b[38;5;241m=\u001b[39m \u001b[38;5;28;01mNone\u001b[39;00m\n\u001b[0;32m   1750\u001b[0m called_always_called_hooks \u001b[38;5;241m=\u001b[39m \u001b[38;5;28mset\u001b[39m()\n",
      "File \u001b[1;32mc:\\Users\\goldi\\.conda\\envs\\ncf\\lib\\site-packages\\torch\\nn\\modules\\loss.py:697\u001b[0m, in \u001b[0;36mBCELoss.forward\u001b[1;34m(self, input, target)\u001b[0m\n\u001b[0;32m    696\u001b[0m \u001b[38;5;28;01mdef\u001b[39;00m \u001b[38;5;21mforward\u001b[39m(\u001b[38;5;28mself\u001b[39m, \u001b[38;5;28minput\u001b[39m: Tensor, target: Tensor) \u001b[38;5;241m-\u001b[39m\u001b[38;5;241m>\u001b[39m Tensor:\n\u001b[1;32m--> 697\u001b[0m     \u001b[38;5;28;01mreturn\u001b[39;00m \u001b[43mF\u001b[49m\u001b[38;5;241;43m.\u001b[39;49m\u001b[43mbinary_cross_entropy\u001b[49m\u001b[43m(\u001b[49m\n\u001b[0;32m    698\u001b[0m \u001b[43m        \u001b[49m\u001b[38;5;28;43minput\u001b[39;49m\u001b[43m,\u001b[49m\u001b[43m \u001b[49m\u001b[43mtarget\u001b[49m\u001b[43m,\u001b[49m\u001b[43m \u001b[49m\u001b[43mweight\u001b[49m\u001b[38;5;241;43m=\u001b[39;49m\u001b[38;5;28;43mself\u001b[39;49m\u001b[38;5;241;43m.\u001b[39;49m\u001b[43mweight\u001b[49m\u001b[43m,\u001b[49m\u001b[43m \u001b[49m\u001b[43mreduction\u001b[49m\u001b[38;5;241;43m=\u001b[39;49m\u001b[38;5;28;43mself\u001b[39;49m\u001b[38;5;241;43m.\u001b[39;49m\u001b[43mreduction\u001b[49m\n\u001b[0;32m    699\u001b[0m \u001b[43m    \u001b[49m\u001b[43m)\u001b[49m\n",
      "File \u001b[1;32mc:\\Users\\goldi\\.conda\\envs\\ncf\\lib\\site-packages\\torch\\nn\\functional.py:3554\u001b[0m, in \u001b[0;36mbinary_cross_entropy\u001b[1;34m(input, target, weight, size_average, reduce, reduction)\u001b[0m\n\u001b[0;32m   3551\u001b[0m     new_size \u001b[38;5;241m=\u001b[39m _infer_size(target\u001b[38;5;241m.\u001b[39msize(), weight\u001b[38;5;241m.\u001b[39msize())\n\u001b[0;32m   3552\u001b[0m     weight \u001b[38;5;241m=\u001b[39m weight\u001b[38;5;241m.\u001b[39mexpand(new_size)\n\u001b[1;32m-> 3554\u001b[0m \u001b[38;5;28;01mreturn\u001b[39;00m \u001b[43mtorch\u001b[49m\u001b[38;5;241;43m.\u001b[39;49m\u001b[43m_C\u001b[49m\u001b[38;5;241;43m.\u001b[39;49m\u001b[43m_nn\u001b[49m\u001b[38;5;241;43m.\u001b[39;49m\u001b[43mbinary_cross_entropy\u001b[49m\u001b[43m(\u001b[49m\u001b[38;5;28;43minput\u001b[39;49m\u001b[43m,\u001b[49m\u001b[43m \u001b[49m\u001b[43mtarget\u001b[49m\u001b[43m,\u001b[49m\u001b[43m \u001b[49m\u001b[43mweight\u001b[49m\u001b[43m,\u001b[49m\u001b[43m \u001b[49m\u001b[43mreduction_enum\u001b[49m\u001b[43m)\u001b[49m\n",
      "\u001b[1;31mRuntimeError\u001b[0m: CUDA error: device-side assert triggered\nCompile with `TORCH_USE_CUDA_DSA` to enable device-side assertions.\n"
     ]
    }
   ],
   "source": [
    "criterion = nn.BCELoss()\n",
    "optimizer = optim.Adam(model.parameters(), lr=0.001, weight_decay=1e-5)\n",
    "\n",
    "\n",
    "def train_epoch(model, data_loader, criterion, optimizer, device):\n",
    "   model.train()\n",
    "   total_loss = 0\n",
    "   for batch in tqdm(data_loader, desc=\"Training\"):\n",
    "       user_ids = batch['user_id'].to(device)\n",
    "       item_ids = batch['item_id'].to(device)\n",
    "       labels = batch['label'].to(device)\n",
    "      \n",
    "       optimizer.zero_grad()\n",
    "       outputs = model(user_ids, item_ids)\n",
    "       loss = criterion(outputs, labels)\n",
    "      \n",
    "       loss.backward()\n",
    "       optimizer.step()\n",
    "      \n",
    "       total_loss += loss.item()\n",
    "  \n",
    "   return total_loss / len(data_loader)\n",
    "\n",
    "\n",
    "def evaluate(model, data_loader, criterion, device):\n",
    "   model.eval()\n",
    "   total_loss = 0\n",
    "   predictions = []\n",
    "   true_labels = []\n",
    "  \n",
    "   with torch.no_grad():\n",
    "       for batch in tqdm(data_loader, desc=\"Evaluating\"):\n",
    "           user_ids = batch['user_id'].to(device)\n",
    "           item_ids = batch['item_id'].to(device)\n",
    "           labels = batch['label'].to(device)\n",
    "          \n",
    "           outputs = model(user_ids, item_ids)\n",
    "           loss = criterion(outputs, labels)\n",
    "           total_loss += loss.item()\n",
    "          \n",
    "           predictions.extend(outputs.cpu().numpy())\n",
    "           true_labels.extend(labels.cpu().numpy())\n",
    "  \n",
    "   from sklearn.metrics import roc_auc_score, average_precision_score\n",
    "   auc = roc_auc_score(true_labels, predictions)\n",
    "   ap = average_precision_score(true_labels, predictions)\n",
    "  \n",
    "   return {\n",
    "       'loss': total_loss / len(data_loader),\n",
    "       'auc': auc,\n",
    "       'ap': ap\n",
    "   }\n",
    "\n",
    "\n",
    "num_epochs = 10\n",
    "history = {'train_loss': [], 'val_loss': [], 'val_auc': [], 'val_ap': []}\n",
    "\n",
    "\n",
    "for epoch in range(num_epochs):\n",
    "   train_loss = train_epoch(model, train_loader, criterion, optimizer, device)\n",
    "  \n",
    "   eval_metrics = evaluate(model, test_loader, criterion, device)\n",
    "  \n",
    "   history['train_loss'].append(train_loss)\n",
    "   history['val_loss'].append(eval_metrics['loss'])\n",
    "   history['val_auc'].append(eval_metrics['auc'])\n",
    "   history['val_ap'].append(eval_metrics['ap'])\n",
    "  \n",
    "   print(f\"Epoch {epoch+1}/{num_epochs} - \"\n",
    "         f\"Train Loss: {train_loss:.4f}, \"\n",
    "         f\"Val Loss: {eval_metrics['loss']:.4f}, \"\n",
    "         f\"AUC: {eval_metrics['auc']:.4f}, \"\n",
    "         f\"AP: {eval_metrics['ap']:.4f}\")\n",
    "\n",
    "\n",
    "plt.figure(figsize=(12, 4))\n",
    "\n",
    "\n",
    "plt.subplot(1, 2, 1)\n",
    "plt.plot(history['train_loss'], label='Train Loss')\n",
    "plt.plot(history['val_loss'], label='Validation Loss')\n",
    "plt.title('Loss During Training')\n",
    "plt.xlabel('Epoch')\n",
    "plt.ylabel('Loss')\n",
    "plt.legend()\n",
    "\n",
    "\n",
    "plt.subplot(1, 2, 2)\n",
    "plt.plot(history['val_auc'], label='AUC')\n",
    "plt.plot(history['val_ap'], label='Average Precision')\n",
    "plt.title('Evaluation Metrics')\n",
    "plt.xlabel('Epoch')\n",
    "plt.ylabel('Score')\n",
    "plt.legend()\n",
    "\n",
    "\n",
    "plt.tight_layout()\n",
    "plt.show()\n",
    "\n",
    "\n",
    "torch.save(model.state_dict(), 'ncf_model.pth')\n",
    "print(\"Model saved successfully!\")"
   ]
  },
  {
   "cell_type": "markdown",
   "metadata": {},
   "source": [
    "# 6. Generating Recommendations"
   ]
  },
  {
   "cell_type": "code",
   "execution_count": null,
   "metadata": {},
   "outputs": [],
   "source": [
    "def generate_recommendations(model, user_id, n=10):\n",
    "   model.eval()\n",
    "   user_ids = torch.tensor([user_id] * num_items, dtype=torch.long).to(device)\n",
    "   item_ids = torch.tensor(range(1, num_items + 1), dtype=torch.long).to(device)\n",
    "  \n",
    "   with torch.no_grad():\n",
    "       predictions = model(user_ids, item_ids).cpu().numpy()\n",
    "  \n",
    "   items_df = pd.DataFrame({\n",
    "       'item_id': range(1, num_items + 1),\n",
    "       'score': predictions\n",
    "   })\n",
    "  \n",
    "   user_rated_items = set(ratings_df[ratings_df['user_id'] == user_id]['item_id'].values)\n",
    "  \n",
    "   items_df = items_df[~items_df['item_id'].isin(user_rated_items)]\n",
    "  \n",
    "   top_n_items = items_df.sort_values('score', ascending=False).head(n)\n",
    "  \n",
    "   recommendations = pd.merge(top_n_items, movies_df[['item_id', 'title']], on='item_id')\n",
    "  \n",
    "   return recommendations[['item_id', 'title', 'score']]\n",
    "\n",
    "\n",
    "test_users = [1, 42, 100]\n",
    "\n",
    "\n",
    "for user_id in test_users:\n",
    "   print(f\"nTop 10 recommendations for user {user_id}:\")\n",
    "   recommendations = generate_recommendations(model, user_id, n=10)\n",
    "   print(recommendations)\n",
    "  \n",
    "   print(f\"nMovies that user {user_id} has rated highly (4-5 stars):\")\n",
    "   user_liked = ratings_df[(ratings_df['user_id'] == user_id) & (ratings_df['rating'] >= 4)]\n",
    "   user_liked = pd.merge(user_liked, movies_df[['item_id', 'title']], on='item_id')\n",
    "   user_liked[['item_id', 'title', 'rating']]"
   ]
  },
  {
   "cell_type": "markdown",
   "metadata": {},
   "source": [
    "# 7. Evaluating the Model Further"
   ]
  },
  {
   "cell_type": "code",
   "execution_count": null,
   "metadata": {},
   "outputs": [],
   "source": [
    "def evaluate_model_with_metrics(model, test_loader, device):\n",
    "   model.eval()\n",
    "   predictions = []\n",
    "   true_labels = []\n",
    "  \n",
    "   with torch.no_grad():\n",
    "       for batch in tqdm(test_loader, desc=\"Evaluating\"):\n",
    "           user_ids = batch['user_id'].to(device)\n",
    "           item_ids = batch['item_id'].to(device)\n",
    "           labels = batch['label'].to(device)\n",
    "          \n",
    "           outputs = model(user_ids, item_ids)\n",
    "          \n",
    "           predictions.extend(outputs.cpu().numpy())\n",
    "           true_labels.extend(labels.cpu().numpy())\n",
    "  \n",
    "   from sklearn.metrics import roc_auc_score, average_precision_score, precision_recall_curve, accuracy_score\n",
    "  \n",
    "   binary_preds = [1 if p >= 0.5 else 0 for p in predictions]\n",
    "  \n",
    "   auc = roc_auc_score(true_labels, predictions)\n",
    "   ap = average_precision_score(true_labels, predictions)\n",
    "   accuracy = accuracy_score(true_labels, binary_preds)\n",
    "  \n",
    "   precision, recall, thresholds = precision_recall_curve(true_labels, predictions)\n",
    "  \n",
    "   plt.figure(figsize=(10, 6))\n",
    "   plt.plot(recall, precision, label=f'AP={ap:.3f}')\n",
    "   plt.xlabel('Recall')\n",
    "   plt.ylabel('Precision')\n",
    "   plt.title('Precision-Recall Curve')\n",
    "   plt.legend()\n",
    "   plt.grid(True)\n",
    "   plt.show()\n",
    "  \n",
    "   return {\n",
    "       'auc': auc,\n",
    "       'ap': ap,\n",
    "       'accuracy': accuracy\n",
    "   }\n",
    "\n",
    "\n",
    "metrics = evaluate_model_with_metrics(model, test_loader, device)\n",
    "print(f\"AUC: {metrics['auc']:.4f}\")\n",
    "print(f\"Average Precision: {metrics['ap']:.4f}\")\n",
    "print(f\"Accuracy: {metrics['accuracy']:.4f}\")"
   ]
  },
  {
   "cell_type": "markdown",
   "metadata": {},
   "source": [
    "# 8. Cold Start Analysis"
   ]
  },
  {
   "cell_type": "code",
   "execution_count": null,
   "metadata": {},
   "outputs": [],
   "source": [
    "user_rating_counts = ratings_df.groupby('user_id').size().reset_index(name='count')\n",
    "user_rating_counts['group'] = pd.cut(user_rating_counts['count'],\n",
    "                                   bins=[0, 10, 50, 100, float('inf')],\n",
    "                                   labels=['1-10', '11-50', '51-100', '100+'])\n",
    "\n",
    "\n",
    "print(\"Number of users in each rating frequency group:\")\n",
    "print(user_rating_counts['group'].value_counts())\n",
    "\n",
    "\n",
    "def evaluate_by_user_group(model, ratings_df, user_groups, device):\n",
    "   results = {}\n",
    "  \n",
    "   for group_name, user_ids in user_groups.items():\n",
    "       group_ratings = ratings_df[ratings_df['user_id'].isin(user_ids)]\n",
    "      \n",
    "       group_dataset = NCFDataset(group_ratings)\n",
    "       group_loader = DataLoader(group_dataset, batch_size=256, shuffle=False)\n",
    "      \n",
    "       if len(group_loader) == 0:\n",
    "           continue\n",
    "      \n",
    "       model.eval()\n",
    "       predictions = []\n",
    "       true_labels = []\n",
    "      \n",
    "       with torch.no_grad():\n",
    "           for batch in group_loader:\n",
    "               user_ids = batch['user_id'].to(device)\n",
    "               item_ids = batch['item_id'].to(device)\n",
    "               labels = batch['label'].to(device)\n",
    "              \n",
    "               outputs = model(user_ids, item_ids)\n",
    "              \n",
    "               predictions.extend(outputs.cpu().numpy())\n",
    "               true_labels.extend(labels.cpu().numpy())\n",
    "      \n",
    "       from sklearn.metrics import roc_auc_score\n",
    "       try:\n",
    "           auc = roc_auc_score(true_labels, predictions)\n",
    "           results[group_name] = auc\n",
    "       except:\n",
    "           results[group_name] = None\n",
    "  \n",
    "   return results\n",
    "\n",
    "\n",
    "user_groups = {}\n",
    "for group in user_rating_counts['group'].unique():\n",
    "   users_in_group = user_rating_counts[user_rating_counts['group'] == group]['user_id'].values\n",
    "   user_groups[group] = users_in_group\n",
    "\n",
    "\n",
    "group_performance = evaluate_by_user_group(model, test_df, user_groups, device)\n",
    "\n",
    "\n",
    "plt.figure(figsize=(10, 6))\n",
    "groups = []\n",
    "aucs = []\n",
    "\n",
    "\n",
    "for group, auc in group_performance.items():\n",
    "   if auc is not None:\n",
    "       groups.append(group)\n",
    "       aucs.append(auc)\n",
    "\n",
    "\n",
    "plt.bar(groups, aucs)\n",
    "plt.xlabel('Number of Ratings per User')\n",
    "plt.ylabel('AUC Score')\n",
    "plt.title('Model Performance by User Rating Frequency (Cold Start Analysis)')\n",
    "plt.ylim(0.5, 1.0)\n",
    "plt.grid(axis='y', linestyle='--', alpha=0.7)\n",
    "plt.show()\n",
    "\n",
    "\n",
    "print(\"AUC scores by user rating frequency:\")\n",
    "for group, auc in group_performance.items():\n",
    "   if auc is not None:\n",
    "       print(f\"{group}: {auc:.4f}\")"
   ]
  },
  {
   "cell_type": "markdown",
   "metadata": {},
   "source": [
    "# 9. Business Insights and Extensions"
   ]
  },
  {
   "cell_type": "code",
   "execution_count": null,
   "metadata": {},
   "outputs": [],
   "source": [
    "def analyze_predictions(model, data_loader, device):\n",
    "   model.eval()\n",
    "   predictions = []\n",
    "   true_labels = []\n",
    "  \n",
    "   with torch.no_grad():\n",
    "       for batch in data_loader:\n",
    "           user_ids = batch['user_id'].to(device)\n",
    "           item_ids = batch['item_id'].to(device)\n",
    "           labels = batch['label'].to(device)\n",
    "          \n",
    "           outputs = model(user_ids, item_ids)\n",
    "          \n",
    "           predictions.extend(outputs.cpu().numpy())\n",
    "           true_labels.extend(labels.cpu().numpy())\n",
    "  \n",
    "   results_df = pd.DataFrame({\n",
    "       'true_label': true_labels,\n",
    "       'predicted_score': predictions\n",
    "   })\n",
    "  \n",
    "   plt.figure(figsize=(12, 6))\n",
    "  \n",
    "   plt.subplot(1, 2, 1)\n",
    "   sns.histplot(results_df['predicted_score'], bins=30, kde=True)\n",
    "   plt.title('Distribution of Predicted Scores')\n",
    "   plt.xlabel('Predicted Score')\n",
    "   plt.ylabel('Count')\n",
    "  \n",
    "   plt.subplot(1, 2, 2)\n",
    "   sns.boxplot(x='true_label', y='predicted_score', data=results_df)\n",
    "   plt.title('Predicted Scores by True Label')\n",
    "   plt.xlabel('True Label (0=Disliked, 1=Liked)')\n",
    "   plt.ylabel('Predicted Score')\n",
    "  \n",
    "   plt.tight_layout()\n",
    "   plt.show()\n",
    "  \n",
    "   avg_scores = results_df.groupby('true_label')['predicted_score'].mean()\n",
    "   print(\"Average prediction scores:\")\n",
    "   print(f\"Items user disliked (0): {avg_scores[0]:.4f}\")\n",
    "   print(f\"Items user liked (1): {avg_scores[1]:.4f}\")\n",
    "\n",
    "\n",
    "analyze_predictions(model, test_loader, device)"
   ]
  }
 ],
 "metadata": {
  "kernelspec": {
   "display_name": "ncf",
   "language": "python",
   "name": "python3"
  },
  "language_info": {
   "codemirror_mode": {
    "name": "ipython",
    "version": 3
   },
   "file_extension": ".py",
   "mimetype": "text/x-python",
   "name": "python",
   "nbconvert_exporter": "python",
   "pygments_lexer": "ipython3",
   "version": "3.10.16"
  }
 },
 "nbformat": 4,
 "nbformat_minor": 2
}
